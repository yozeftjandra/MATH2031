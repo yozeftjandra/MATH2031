{
 "cells": [
  {
   "cell_type": "markdown",
   "metadata": {},
   "source": [
    "# LAB ANALISIS DATA 1 - MATH2031 ALJABAR LINEAR \n",
    "_Calvin Institute of Technology - 2020_"
   ]
  },
  {
   "cell_type": "markdown",
   "metadata": {},
   "source": [
    "Setelah mengikuti modul ini, mahasiswa akan dapat:\n",
    "* mengoperasikan perintah-perintah dasar dalam Pyhton dan NumPy\n",
    "* melakukan proses input dan output matriks berukuran besar\n",
    "* melakukan proses operasi matriks dasar dengan Pyhton dan NumPy\n",
    "* menyelesaikan SPL, mencari invers matriks, dan menghitung determinan matriks"
   ]
  },
  {
   "cell_type": "markdown",
   "metadata": {},
   "source": [
    "## 01 Cetak 'Hello World!'\n",
    "Seperti kebanyakan pengalaman pertama 'berjumpa' dengan semua bahasa pemrograman lainnya, adalah baik untuk kita dapat menjalankan program standar berikut sebagai pengalaman pertama kita menggunakan bahasa Python: memerintahkan Pyhton untuk menyapa dunia dengan meng-outputkan kalimat \"Hello World!\"."
   ]
  },
  {
   "cell_type": "code",
   "execution_count": 1,
   "metadata": {},
   "outputs": [
    {
     "name": "stdout",
     "output_type": "stream",
     "text": [
      "Hello World!\n"
     ]
    }
   ],
   "source": [
    "print('Hello World!')"
   ]
  }
 ],
 "metadata": {
  "kernelspec": {
   "display_name": "Python 3",
   "language": "python",
   "name": "python3"
  },
  "language_info": {
   "codemirror_mode": {
    "name": "ipython",
    "version": 3
   },
   "file_extension": ".py",
   "mimetype": "text/x-python",
   "name": "python",
   "nbconvert_exporter": "python",
   "pygments_lexer": "ipython3",
   "version": "3.7.6"
  }
 },
 "nbformat": 4,
 "nbformat_minor": 4
}
